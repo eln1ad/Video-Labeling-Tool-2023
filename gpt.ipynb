{
 "cells": [
  {
   "cell_type": "code",
   "execution_count": 6,
   "metadata": {},
   "outputs": [],
   "source": [
    "import PySimpleGUI as sg\n",
    "\n",
    "value = 0\n",
    "\n",
    "layout = [\n",
    "    [sg.Text(value, key='-VAL-')],\n",
    "    [sg.Button('+', key='-ADD-'), sg.Button('*2', key='-MUL-')]\n",
    "]\n",
    "\n",
    "window = sg.Window('app', layout, finalize=True)\n",
    "\n",
    "while True:\n",
    "    event, values = window.read(timeout=1)\n",
    "    \n",
    "    if event == sg.WINDOW_CLOSED:\n",
    "        break\n",
    "    \n",
    "    if event == '-ADD-':\n",
    "        value += 1\n",
    "        window['-VAL-'].update(value)\n",
    "        \n",
    "    if event == '-MUL-':\n",
    "        value *= 2\n",
    "        window['-VAL-'].update(value)\n",
    "    \n",
    "window.close()"
   ]
  },
  {
   "cell_type": "code",
   "execution_count": 7,
   "metadata": {},
   "outputs": [],
   "source": [
    "import PySimpleGUI as sg\n",
    "\n",
    "value = 0\n",
    "\n",
    "layout = [\n",
    "    [sg.Text(value, key='-VAL-')],\n",
    "    [sg.Button('+', key='-ADD-'), sg.Button('*2', key='-MUL-')]\n",
    "]\n",
    "\n",
    "window = sg.Window('app', layout, finalize=True)\n",
    "\n",
    "while True:\n",
    "    event, values = window.read(timeout=1)\n",
    "    \n",
    "    if event == sg.WINDOW_CLOSED:\n",
    "        break\n",
    "    \n",
    "    if event == '-ADD-':\n",
    "        value += 1\n",
    "        \n",
    "    if event == '-MUL-':\n",
    "        value *= 2\n",
    "    \n",
    "    window['-VAL-'].update(value)\n",
    "    \n",
    "window.close()"
   ]
  }
 ],
 "metadata": {
  "kernelspec": {
   "display_name": "tensorflow_env",
   "language": "python",
   "name": "python3"
  },
  "language_info": {
   "codemirror_mode": {
    "name": "ipython",
    "version": 3
   },
   "file_extension": ".py",
   "mimetype": "text/x-python",
   "name": "python",
   "nbconvert_exporter": "python",
   "pygments_lexer": "ipython3",
   "version": "3.9.15"
  },
  "orig_nbformat": 4,
  "vscode": {
   "interpreter": {
    "hash": "ea9c40c2f1cde6c2e96aa1b471448a03ae5b4e74db5b5816ff4d05435e2a5b6e"
   }
  }
 },
 "nbformat": 4,
 "nbformat_minor": 2
}
