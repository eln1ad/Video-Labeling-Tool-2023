{
 "cells": [
  {
   "cell_type": "code",
   "execution_count": 2,
   "metadata": {},
   "outputs": [],
   "source": [
    "import cv2\n",
    "import numpy as np\n",
    "import pandas as pd\n",
    "from pathlib import Path\n",
    "import PySimpleGUI as sg"
   ]
  },
  {
   "cell_type": "code",
   "execution_count": null,
   "metadata": {},
   "outputs": [],
   "source": [
    "draw_text(text,\n",
    "    location,\n",
    "    color = \"black\",\n",
    "    font = None,\n",
    "    angle = 0,\n",
    "    text_location = \"center\")"
   ]
  },
  {
   "cell_type": "code",
   "execution_count": 13,
   "metadata": {},
   "outputs": [],
   "source": [
    "w = 200 * 3\n",
    "h = 20\n",
    "d_w = 20.0\n",
    "s = 0\n",
    "\n",
    "c = None\n",
    "txt = None\n",
    "\n",
    "layout = [\n",
    "    [sg.Graph((w, h), (0,0), (w, h),  background_color='lime', key='-P-')],\n",
    "    [sg.Button('+', key='-A-')],\n",
    "    [sg.Button('S', key='-S-'), [sg.Button('E', key='-E-')],],\n",
    "]\n",
    "\n",
    "window = sg.Window('App', layout, finalize=True)\n",
    "\n",
    "\n",
    "def draw_rect(s):\n",
    "    c1 = s * d_w\n",
    "    s += 1\n",
    "    c2 = s * d_w\n",
    "    \n",
    "    window['-P-'].draw_rectangle(\n",
    "        (c1, 0),\n",
    "        (c2, h),\n",
    "        fill_color = c\n",
    "    )\n",
    "    return s\n",
    "\n",
    "  \n",
    "def draw_txt(s):\n",
    "    x = (s - 1) * d_w + d_w / 2\n",
    "    \n",
    "    window['-P-'].draw_text(\n",
    "        txt,\n",
    "        (x, h / 2),\n",
    "    )\n",
    "\n",
    "\n",
    "while True:\n",
    "    event, values = window.read()\n",
    "    \n",
    "    if event == sg.WIN_CLOSED:\n",
    "        break\n",
    "    \n",
    "    if event == '-A-':\n",
    "        s = draw_rect(s)\n",
    "        draw_txt(s)\n",
    "        \n",
    "    if event == '-S-':\n",
    "        c = 'orange'\n",
    "        txt = 'S'\n",
    "        \n",
    "    if event == '-E-':\n",
    "        c = 'red'\n",
    "        txt = 'E'\n",
    "        \n",
    "    window.read(timeout=0)\n",
    "        \n",
    "window.close()"
   ]
  },
  {
   "cell_type": "code",
   "execution_count": null,
   "metadata": {},
   "outputs": [],
   "source": [
    "def read_vid(path):\n",
    "    pass"
   ]
  }
 ],
 "metadata": {
  "kernelspec": {
   "display_name": "tensorflow_env",
   "language": "python",
   "name": "python3"
  },
  "language_info": {
   "codemirror_mode": {
    "name": "ipython",
    "version": 3
   },
   "file_extension": ".py",
   "mimetype": "text/x-python",
   "name": "python",
   "nbconvert_exporter": "python",
   "pygments_lexer": "ipython3",
   "version": "3.9.15"
  },
  "orig_nbformat": 4,
  "vscode": {
   "interpreter": {
    "hash": "ea9c40c2f1cde6c2e96aa1b471448a03ae5b4e74db5b5816ff4d05435e2a5b6e"
   }
  }
 },
 "nbformat": 4,
 "nbformat_minor": 2
}
