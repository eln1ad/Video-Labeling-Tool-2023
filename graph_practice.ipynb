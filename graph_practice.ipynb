{
 "cells": [
  {
   "cell_type": "code",
   "execution_count": 1,
   "metadata": {},
   "outputs": [],
   "source": [
    "import PySimpleGUI as sg"
   ]
  },
  {
   "attachments": {},
   "cell_type": "markdown",
   "metadata": {},
   "source": [
    "### UI Logic"
   ]
  },
  {
   "cell_type": "code",
   "execution_count": 2,
   "metadata": {},
   "outputs": [],
   "source": [
    "def draw_figure(window, figure, width, height, color):\n",
    "    x, y = figure['x'], figure['y']\n",
    "    \n",
    "    x1 = x + width / 2\n",
    "    y1 = y + height / 2\n",
    "    \n",
    "    x2 = x - width / 2\n",
    "    y2 = y - height / 2\n",
    "    \n",
    "    window['-GRAPH-'].draw_rectangle((x1, y1), (x2, y2), fill_color=color)\n",
    "    \n",
    "    \n",
    "def draw_figures(window, figures, width, height, color):\n",
    "    for figure in figures:\n",
    "        draw_figure(window, figure, width, height, color)\n",
    "        \n",
    "\n",
    "def delete_figures(window):\n",
    "    window['-GRAPH-'].erase()\n",
    "    \n",
    "    \n",
    "def redraw_figures(window, figures, width, height, color):\n",
    "    delete_figures(window)\n",
    "    draw_figures(window, figures, width, height, color)"
   ]
  },
  {
   "attachments": {},
   "cell_type": "markdown",
   "metadata": {},
   "source": [
    "### Backend Logic"
   ]
  },
  {
   "cell_type": "code",
   "execution_count": 3,
   "metadata": {},
   "outputs": [],
   "source": [
    "figures = []\n",
    "\n",
    "def add_figure(x, y):\n",
    "    figures.append({'x': x, 'y': y})\n",
    "    \n",
    "    \n",
    "def clicked_on_figure(figure, x, y):\n",
    "    x1 = figure['x'] + 40 / 2\n",
    "    y1 = figure['y'] + 40 / 2\n",
    "    x2 = figure['x'] - 40 / 2\n",
    "    y2 = figure['y'] - 40 / 2    \n",
    "    return x2 <= x and x <= x1 and y2 <= y and y < y1\n",
    "\n",
    "\n",
    "def find_figure(x, y):\n",
    "    for figure in figures:\n",
    "        if clicked_on_figure(figure, x, y):\n",
    "            return figure\n",
    "    return None\n",
    "\n",
    "\n",
    "def delete_figure(x, y):\n",
    "    figure = find_figure(x, y)\n",
    "    if figure:\n",
    "        figures.remove(figure)"
   ]
  },
  {
   "attachments": {},
   "cell_type": "markdown",
   "metadata": {},
   "source": [
    "### Putting it together\n",
    "- Delete figure on right click"
   ]
  },
  {
   "cell_type": "code",
   "execution_count": 4,
   "metadata": {},
   "outputs": [],
   "source": [
    "graph_width = 1000\n",
    "graph_height = 1000\n",
    "\n",
    "graph_x1 = 0\n",
    "graph_y1 = 0\n",
    "\n",
    "graph_x2 = 1000\n",
    "graph_y2 = 1000\n",
    "\n",
    "graph_bg_color = 'yellow'\n",
    "\n",
    "left_column_layout = [\n",
    "    [sg.Graph((graph_width, graph_height), (graph_x1, graph_y1), (graph_x2, graph_y2), key='-GRAPH-', right_click_menu=[[], ['Delete',]], enable_events=True, background_color=graph_bg_color)],\n",
    "]\n",
    "\n",
    "right_column_layout = [\n",
    "    [sg.Input(key='-X-', size=(4, 1), enable_events=True), sg.Input(key='-Y-', size=(4, 1), enable_events=True)],\n",
    "    [sg.Button('Add', key='-ADD-'), sg.Button('Delete', key='-DELETE-')],\n",
    "    [sg.Button('debug', key='-DEBUG-')]\n",
    "]\n",
    "\n",
    "layout = [\n",
    "    [sg.Column(left_column_layout), sg.Column(right_column_layout)]\n",
    "]\n",
    "\n",
    "window = sg.Window('App', layout, finalize=True)\n",
    "\n",
    "while True:\n",
    "    event, values = window.read()\n",
    "    \n",
    "    if event == sg.WINDOW_CLOSED:\n",
    "        break\n",
    "    \n",
    "    if event == '-ADD-':\n",
    "        x = float(values['-X-'])\n",
    "        y = float(values['-Y-'])\n",
    "        \n",
    "        if x and y: \n",
    "            add_figure(x, y)\n",
    "            redraw_figures(window, figures, 40, 40, 'red')\n",
    "            \n",
    "    # if event == '-GRAPH-':\n",
    "    #     x, y = values['-GRAPH-']\n",
    "        \n",
    "    #     if x != None and y != None:\n",
    "    #         delete_figure(x, y)\n",
    "    #         redraw_figures(window, figures, 40, 40, 'red')\n",
    "    \n",
    "    if event == 'Delete':\n",
    "        x, y = values['-GRAPH-']\n",
    "        \n",
    "        if x != None and y != None:\n",
    "            delete_figure(x, y)\n",
    "            redraw_figures(window, figures, 40, 40, 'red')\n",
    "            \n",
    "    if event == '-DEBUG-':\n",
    "        sg.show_debugger_window()\n",
    "    \n",
    "window.close()"
   ]
  }
 ],
 "metadata": {
  "kernelspec": {
   "display_name": "tensorflow_env",
   "language": "python",
   "name": "python3"
  },
  "language_info": {
   "codemirror_mode": {
    "name": "ipython",
    "version": 3
   },
   "file_extension": ".py",
   "mimetype": "text/x-python",
   "name": "python",
   "nbconvert_exporter": "python",
   "pygments_lexer": "ipython3",
   "version": "3.9.15"
  },
  "orig_nbformat": 4,
  "vscode": {
   "interpreter": {
    "hash": "ea9c40c2f1cde6c2e96aa1b471448a03ae5b4e74db5b5816ff4d05435e2a5b6e"
   }
  }
 },
 "nbformat": 4,
 "nbformat_minor": 2
}
